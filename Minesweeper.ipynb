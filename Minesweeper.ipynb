{
  "nbformat": 4,
  "nbformat_minor": 0,
  "metadata": {
    "colab": {
      "provenance": [],
      "authorship_tag": "ABX9TyMeAjXRIfFN+mOycERZ9TNP",
      "include_colab_link": true
    },
    "kernelspec": {
      "name": "python3",
      "display_name": "Python 3"
    },
    "language_info": {
      "name": "python"
    }
  },
  "cells": [
    {
      "cell_type": "markdown",
      "metadata": {
        "id": "view-in-github",
        "colab_type": "text"
      },
      "source": [
        "<a href=\"https://colab.research.google.com/github/iscel15/Games/blob/main/Minesweeper.ipynb\" target=\"_parent\"><img src=\"https://colab.research.google.com/assets/colab-badge.svg\" alt=\"Open In Colab\"/></a>"
      ]
    },
    {
      "cell_type": "markdown",
      "source": [This is an implementation of the logic behind a Minesweeper game. Given a set of cells in the input matrix, the goal is to mark the cells containing mines and count how many mines are in neighboring non-mined cells. The output matrix is the same as the input matrix, but with the numbers of neighboring mines instead of the mines themselves.

The code starts by defining the solution() function that accepts a matrix as an argument. Then, the dimensions of the matrix are extracted, and a resulting matrix of the same dimension is created, initially filled with zeros.

Next, the code iterates over each cell in the input matrix. If the current cell contains a mine, it iterates over neighboring cells (adjacent or diagonal cells) and increments the count of neighboring mines for each neighboring cell by 1. This is done using a common technique for iterating over a matrix with a range covering the neighboring cells of the current cell. At this point, the output matrix still contains the mines.

After iterating over all cells, the code iterates over each cell again. If the current cell contains a mine, 1 is subtracted from the number of neighboring mines in that cell. This is done so that the current cell also counts itself as a neighboring cell, since its own mine had already been counted earlier. Finally, the output matrix is returned.

       ],
      "metadata": {
        "id": "ZaQKnOLhIbNe"
      }
    },
    {
      "cell_type": "code",
      "execution_count": 8,
      "metadata": {
        "colab": {
          "base_uri": "https://localhost:8080/"
        },
        "id": "icLX4oi2UY73",
        "outputId": "9097a326-d786-41a4-c02d-c0a048d2eb82"
      },
      "outputs": [
        {
          "output_type": "execute_result",
          "data": {
            "text/plain": [
              "[[1, 2, 1], [2, 1, 1], [1, 1, 1]]"
            ]
          },
          "metadata": {},
          "execution_count": 8
        }
      ],
      "source": [
        "def solution(matrix):\n",
        "    # Get the number of rows and columns in the matrix\n",
        "    rows, cols = len(matrix), len(matrix[0])\n",
        "    # Create a result matrix of the same size filled with zeros\n",
        "    result = [[0 for _ in range(cols)] for _ in range(rows)]\n",
        "\n",
        "    # Iterate through each cell in the matrix\n",
        "    for i in range(rows):\n",
        "        for j in range(cols):\n",
        "            # If the current cell contains a mine, increment the count of its neighbors by 1\n",
        "            if matrix[i][j]:\n",
        "                for r in range(max(i - 1, 0), min(i + 2, rows)):\n",
        "                    for c in range(max(j - 1, 0), min(j + 2, cols)):\n",
        "                        result[r][c] += 1\n",
        "                        \n",
        "    # Iterate through each cell in the matrix again\n",
        "    for i in range(rows):\n",
        "        for j in range(cols):\n",
        "            # If the current cell contains a mine, subtract 1 from its count\n",
        "            if matrix[i][j]:\n",
        "                result[i][j] -= 1\n",
        "                \n",
        "    # Return the resulting matrix\n",
        "    return result\n",
        "input = [[1,0,0], \n",
        "        [0,1,0], \n",
        "        [0,0,0]]\n",
        "solution(input)\n"
      ]
    }
  ]
}
